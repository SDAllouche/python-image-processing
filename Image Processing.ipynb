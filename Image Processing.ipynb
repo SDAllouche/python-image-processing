{
 "cells": [
  {
   "cell_type": "code",
   "execution_count": null,
   "id": "5f2ea0e8",
   "metadata": {},
   "outputs": [],
   "source": [
    "from tkinter import *\n",
    "from PIL import ImageTk, Image,ImageFilter\n",
    "from tkinter import filedialog\n",
    "import os\n",
    "from tkinter.filedialog import askdirectory\n",
    "import numpy\n",
    "from imshowpair import *\n",
    "import matplotlib.pyplot as plt\n",
    "from skimage.util import random_noise\n",
    "from math import log10, sqrt\n",
    "import math"
   ]
  },
  {
   "cell_type": "markdown",
   "id": "dcfa1c89",
   "metadata": {},
   "source": [
    "# <font color=\"black\"><u>Exercice 1</u> :</font>"
   ]
  },
  {
   "cell_type": "code",
   "execution_count": null,
   "id": "c55125a6",
   "metadata": {},
   "outputs": [],
   "source": [
    "#Q1 : Load an image and take its information\n",
    "\n",
    "def open_file ():\n",
    "    window = Tk()\n",
    "    window.withdraw()\n",
    "    file = filedialog.askopenfilename()\n",
    "    return file\n",
    "\n",
    "def ouvre():\n",
    "    image=Image.open(open_file())\n",
    "    return image\n",
    "\n",
    "def image_param(image):\n",
    "    return image.format,image.size,image.mode,image.palette"
   ]
  },
  {
   "cell_type": "code",
   "execution_count": null,
   "id": "dd85f30d",
   "metadata": {},
   "outputs": [],
   "source": [
    "image=ouvre()\n",
    "print(image_param(image))"
   ]
  },
  {
   "cell_type": "code",
   "execution_count": null,
   "id": "df4fd5d6",
   "metadata": {},
   "outputs": [],
   "source": [
    "#Q_2 : Save the image\n",
    "\n",
    "def save_image(img,image,path,op):\n",
    "    filename=os.path.splitext(path)[0]+op+f\".{image_param(image)[0]}\"\n",
    "    img.save(filename)"
   ]
  },
  {
   "cell_type": "code",
   "execution_count": null,
   "id": "c20c3223",
   "metadata": {},
   "outputs": [],
   "source": [
    "#Q3 : Resize the image\n",
    "\n",
    "#There is a predefinend fonction to resize:iamge.resize((round(image.size[0]*0.5), round(image.size[1]*0.5)))\n",
    "\n",
    "def redimenssion(x,y):\n",
    "    file=open_file()\n",
    "    image=Image.open(file)\n",
    "    image.thumbnail((x,y))\n",
    "    save_image(image,image,file,\"_thumbnail\")\n",
    "    image.show() "
   ]
  },
  {
   "cell_type": "code",
   "execution_count": null,
   "id": "d44aedfd",
   "metadata": {},
   "outputs": [],
   "source": [
    "redimenssion(700,200)"
   ]
  },
  {
   "cell_type": "code",
   "execution_count": null,
   "id": "8b1b0d06",
   "metadata": {},
   "outputs": [],
   "source": [
    "def #Q4 : Convert the color system of the image\n",
    "\n",
    "def color_system():\n",
    "    color=[\"RGB\",\"L\",\"1\",\"CMYK\"]\n",
    "    file=open_file()\n",
    "    image=Image.open(file)\n",
    "    org=image_param(image)[2]\n",
    "    for i in color:\n",
    "        if i!=org:\n",
    "            name=f\"_{i}\"\n",
    "            img=image.convert(i)\n",
    "            save_image(img,image,file,f\"_{i}\")"
   ]
  },
  {
   "cell_type": "code",
   "execution_count": null,
   "id": "22e37260",
   "metadata": {},
   "outputs": [],
   "source": [
    "color_system()"
   ]
  },
  {
   "cell_type": "code",
   "execution_count": null,
   "id": "18cb6db7",
   "metadata": {},
   "outputs": [],
   "source": [
    "#Q5 : Geometry modifications\n",
    "\n",
    "def geometry(size,retation):\n",
    "    file=open_file()\n",
    "    image=Image.open(file)\n",
    "    img1=image.resize(size)\n",
    "    img1.rotate(retation).show()"
   ]
  },
  {
   "cell_type": "code",
   "execution_count": null,
   "id": "75f3372f",
   "metadata": {},
   "outputs": [],
   "source": [
    "geometry((200,200),90)"
   ]
  },
  {
   "cell_type": "code",
   "execution_count": null,
   "id": "958bb078",
   "metadata": {},
   "outputs": [],
   "source": [
    "#Q6 : Separate the different channels of the image\n",
    "\n",
    "def separe():\n",
    "    file=open_file()\n",
    "    image=Image.open(file)\n",
    "    return image.split()\n",
    "\n",
    "def separe2(n):                        # n est la valeur de plan (0,1,2) \n",
    "    file=open_file()\n",
    "    image=Image.open(file)\n",
    "    a=numpy.array(image)\n",
    "    if n==0:\n",
    "        i=1;j=2\n",
    "    elif n==1:\n",
    "        i=0;j=2\n",
    "    elif n==2:\n",
    "        i=1;j=0\n",
    "    a[:,:,i] *=0\n",
    "    a[:,:,j] *=0\n",
    "    a = Image.fromarray(a)\n",
    "    a.show()"
   ]
  },
  {
   "cell_type": "code",
   "execution_count": null,
   "id": "0d30b9c5",
   "metadata": {},
   "outputs": [],
   "source": [
    "separe2(1)"
   ]
  },
  {
   "cell_type": "code",
   "execution_count": null,
   "id": "a1bd2f12",
   "metadata": {},
   "outputs": [],
   "source": [
    "#Q7 : Trimming the image\n",
    "\n",
    "def decoper(x1,y1,x2,y2):\n",
    "    file=open_file()\n",
    "    image=Image.open(file)\n",
    "    cord=(x1,y1,x2,y2)\n",
    "    img=image.crop(cord)\n",
    "    img.show()"
   ]
  },
  {
   "cell_type": "code",
   "execution_count": null,
   "id": "a1d2ada6",
   "metadata": {},
   "outputs": [],
   "source": [
    "decoper(20,20,100,100)"
   ]
  },
  {
   "cell_type": "code",
   "execution_count": null,
   "id": "c47c2b0c",
   "metadata": {},
   "outputs": [],
   "source": [
    "#Q9 : Convert image to line list\n",
    "\n",
    "def liste():\n",
    "    image=ouvre()\n",
    "    return numpy.array(image)"
   ]
  },
  {
   "cell_type": "code",
   "execution_count": null,
   "id": "05ecfd65",
   "metadata": {},
   "outputs": [],
   "source": [
    "#Q10 : Make a transition between 2 images\n",
    "\n",
    "def new_image(t):\n",
    "    im1=ouvre()\n",
    "    im2=ouvre()\n",
    "    im2=im2.resize(im1.size)\n",
    "    A=numpy.array(im1)\n",
    "    B=numpy.array(im2)\n",
    "    C=(1-t)*A+t*B\n",
    "    return Image.fromarray((C).astype(numpy.uint8))"
   ]
  },
  {
   "cell_type": "code",
   "execution_count": null,
   "id": "c1ecf382",
   "metadata": {},
   "outputs": [],
   "source": [
    "#Fonction predefine for merge two images:\n",
    "C=Image.blend(A,B,0.5)\n",
    "C.show()"
   ]
  },
  {
   "cell_type": "code",
   "execution_count": null,
   "id": "19a43862",
   "metadata": {},
   "outputs": [],
   "source": [
    "new=new_image(0.5)\n",
    "new.show()"
   ]
  },
  {
   "cell_type": "code",
   "execution_count": null,
   "id": "ccc4c96b",
   "metadata": {},
   "outputs": [],
   "source": [
    "#Q11 : Display 2 images side by side\n",
    "\n",
    "def show_pair(im1,im2):\n",
    "    plt.figure(figsize=(100,100))\n",
    "    imshowpair(im1,im2,cmap='gray')"
   ]
  },
  {
   "cell_type": "code",
   "execution_count": null,
   "id": "b7106029",
   "metadata": {},
   "outputs": [],
   "source": [
    "im1=ouvre()\n",
    "im2=ouvre()\n",
    "show_pair(im1,im2)"
   ]
  },
  {
   "cell_type": "markdown",
   "id": "b13ba740",
   "metadata": {},
   "source": [
    "# <font color=\"black\"><u>Exercice 2</u> :</font>"
   ]
  },
  {
   "cell_type": "code",
   "execution_count": null,
   "id": "7103001a",
   "metadata": {},
   "outputs": [],
   "source": [
    "#Q1 : Noises an image with a fixed type of noise and display side by side, the original image and the noisy ones\n",
    "\n",
    "def bruit(image,typ):\n",
    "    noise_img = random_noise(image, mode=typ)\n",
    "    noise_img = np.array(255*noise_img, dtype = 'uint8')\n",
    "    noise_img= Image.fromarray(noise_img)\n",
    "    return noise_img"
   ]
  },
  {
   "cell_type": "raw",
   "id": "69ecbea1",
   "metadata": {},
   "source": [
    "type de bruit : 'gaussian' Gaussian-distributed additive noise.\n",
    "\n",
    "                'localvar' Gaussian-distributed additive noise, with specified local variance at each point of image\n",
    "\n",
    "                'poisson' Poisson-distributed noise generated from the data.\n",
    "\n",
    "                'salt' Replaces random pixels with 1.\n",
    "\n",
    "                'pepper' Replaces random pixels with 0.\n",
    "\n",
    "                's&p' Replaces random pixels with 0 or 1.\n",
    "                \n",
    "               'speckle' Multiplicative noise using out = image + n*image, where n is uniform noise with specified mean &\n",
    "                variance."
   ]
  },
  {
   "cell_type": "code",
   "execution_count": null,
   "id": "9cfafe44",
   "metadata": {},
   "outputs": [],
   "source": [
    "im=liste()\n",
    "im2=bruit(im,'gaussian')\n",
    "show_pair(im,im2)"
   ]
  },
  {
   "cell_type": "code",
   "execution_count": null,
   "id": "72f6c7c0",
   "metadata": {},
   "outputs": [],
   "source": [
    "#Q3 : Create an averaging filter, a Gaussian filter and a median filter\n",
    "\n",
    "def moyenneur(n):\n",
    "    moy=numpy.ones((n,n))/(n**2)\n",
    "    return moy\n",
    "    \n",
    "def gaussian(sigma,n):\n",
    "    g = numpy.zeros((n,n))\n",
    "    ind=(n-1)//2\n",
    "    som = 0\n",
    "    for i in range(-ind,ind+1):\n",
    "        for j in range(-ind,ind+1):\n",
    "            g[j+ind][i+ind] = (1/(2*math.pi*(sigma*sigma)))*(math.exp(-((i*i+j*j)/(2*(sigma*sigma)))))\n",
    "    return g\n",
    "    \n",
    "def median(matrice,n):\n",
    "    ind=(n-1)//2\n",
    "    vect=sorted(matrice.ravel().tolist())\n",
    "    return vect[ind]"
   ]
  },
  {
   "cell_type": "code",
   "execution_count": null,
   "id": "6a508feb",
   "metadata": {},
   "outputs": [],
   "source": [
    "#Q4 : Filter a noisy image by applying the following filters: Averaging filter, Gaussian size filter and Median filter\n",
    "\n",
    "#Fonctio predefine for make image blur: \n",
    "#blurred_image = im.filter(ImageFilter.GaussianBlur(radius))\n",
    "#blurred_image = im.filter(ImageFilter.MedianFilter(size))\n",
    "\n",
    "def convolution_gris(img,fltr):                    # img sous forme array \n",
    "    px = int( (len(fltr)-1) / 2 )\n",
    "    im = img.copy()\n",
    "    imax = img.shape[1] - px\n",
    "    for i in range(px,imax):\n",
    "        for j in range(px,img.shape[0]-px):\n",
    "            im[j][i] = numpy.sum(img[j-px:j+px+1,i-px:i+px+1] * fltr)\n",
    "    return im\n",
    "\n",
    "def filtre_median_gris(img,n):                # img sous forme array\n",
    "    px = int( (n-1) / 2 )\n",
    "    im = img.copy()\n",
    "    imax = img.shape[1] - px\n",
    "    for i in range(px,imax):\n",
    "        for j in range(px,img.shape[0]-px):\n",
    "            im[j][i] =median(img[j-px:j+px+1,i-px:i+px+1],n)\n",
    "    return im\n",
    "\n",
    "def convolution_rgb(img,fltr):               # img sous forme array\n",
    "    im=img.copy()\n",
    "    for i in range(3):\n",
    "        im[:,:,i]=convolution_gris(img[:,:,i],fltr)\n",
    "    return Image.fromarray(im)\n",
    "\n",
    "def filtre_median_rgb(img,n):\n",
    "    im=img.copy()\n",
    "    for i in range(3):\n",
    "        im[:,:,i]=filtre_median_gris_gris(img[:,:,i],fltr)\n",
    "    return Image.fromarray(im)"
   ]
  },
  {
   "cell_type": "code",
   "execution_count": null,
   "id": "be7426b8",
   "metadata": {},
   "outputs": [],
   "source": [
    "moy=moyenneur(5)\n",
    "convolution_gris(numpy.array(im2),moy)"
   ]
  },
  {
   "cell_type": "code",
   "execution_count": null,
   "id": "7f50437a",
   "metadata": {},
   "outputs": [],
   "source": [
    "moy=gaussian(1,7)\n",
    "convolution_gris(numpy.array(im2),moy)"
   ]
  },
  {
   "cell_type": "code",
   "execution_count": null,
   "id": "38ff945c",
   "metadata": {},
   "outputs": [],
   "source": [
    "filtre_median_gris(numpy.array(im2),3)"
   ]
  },
  {
   "cell_type": "code",
   "execution_count": null,
   "id": "eb204546",
   "metadata": {},
   "outputs": [],
   "source": [
    "#Q5 : Evaluate an objective measure called Peak Signal to Noise Ratio (PSNR)\n",
    "\n",
    "def pnsr(orig,fltr):\n",
    "    mse = numpy.mean((orig.astype(numpy.int8) - fltr.astype(numpy.int8)) ** 2)\n",
    "    if(mse == 0):\n",
    "        return 100\n",
    "    max_pixel = 255.0\n",
    "    psnr = 10 * log10(max_pixel / sqrt(mse))\n",
    "    return psnr"
   ]
  },
  {
   "cell_type": "code",
   "execution_count": null,
   "id": "0fba8326",
   "metadata": {},
   "outputs": [],
   "source": [
    "orig=liste()\n",
    "p=pnsr(orig,convolution_gris(numpy.array(im2),moy))\n",
    "print(p)"
   ]
  },
  {
   "cell_type": "code",
   "execution_count": null,
   "id": "f86dfe2b",
   "metadata": {},
   "outputs": [],
   "source": [
    "#Q6 : Compute the PSNR for each simulation previously performed\n",
    "\n",
    "def compare(p):\n",
    "    if p>=20 and p<=40 :\n",
    "        print(\"Filtrage est de bonne qualite \")\n",
    "    else :\n",
    "        print(\"Filtrage est de mauvaise qualite \")"
   ]
  },
  {
   "cell_type": "code",
   "execution_count": null,
   "id": "98d99311",
   "metadata": {},
   "outputs": [],
   "source": [
    "compare(p)"
   ]
  },
  {
   "cell_type": "markdown",
   "id": "ade5bebc",
   "metadata": {},
   "source": [
    "# <font color=\"black\"><u>Exercice 3</u> :</font>"
   ]
  },
  {
   "cell_type": "code",
   "execution_count": null,
   "id": "8fbbc5fb",
   "metadata": {},
   "outputs": [],
   "source": [
    "#Q1 : Calculates the histogram of an image\n",
    "\n",
    "def histo(arr):\n",
    "    list_arr=arr.ravel().tolist()\n",
    "    list_deg=[];list_val=[]\n",
    "    for i in range(256):\n",
    "        list_deg.append(i)\n",
    "        list_val.append(list_arr.count(i))\n",
    "    return list_deg,list_val\n",
    "\n",
    "def hito_rgb(arr):\n",
    "    r,g,b=separ()\n",
    "    r=histo(r)[1]\n",
    "    g=histo(g)[1]\n",
    "    b=histo(b)[1]\n",
    "    return r,g,b"
   ]
  },
  {
   "cell_type": "code",
   "execution_count": null,
   "id": "74a9a48b",
   "metadata": {},
   "outputs": [],
   "source": [
    "im1=liste()\n",
    "h=histo(im1)[1]\n",
    "plt.hist(h,width=5,bins=range(255))"
   ]
  },
  {
   "cell_type": "code",
   "execution_count": null,
   "id": "2d16b54f",
   "metadata": {},
   "outputs": [],
   "source": [
    "#Q2 : Evaluates the cumulative histogram\n",
    "\n",
    "def histo_cum(arr):\n",
    "    h=[]\n",
    "    hi=histo(arr)[1]\n",
    "    for i in range(len(hi)):\n",
    "        h.append((1/(arr.shape[0]*arr.shape[1]))*(sum(hi[0:i+1])))\n",
    "    return h\n",
    "\n",
    "def histo_cum_rgp(arr):\n",
    "    r,g,b=separ()\n",
    "    r=histo_cum(r)\n",
    "    g=histo_cum(g)\n",
    "    b=histo_cum(b)\n",
    "    return r,g,b"
   ]
  },
  {
   "cell_type": "code",
   "execution_count": null,
   "id": "881f87ac",
   "metadata": {},
   "outputs": [],
   "source": [
    "hc=histo_cum(im1)\n",
    "print(hc)"
   ]
  },
  {
   "cell_type": "code",
   "execution_count": null,
   "id": "60cdd585",
   "metadata": {},
   "outputs": [],
   "source": [
    "#Q3_A : Extend the dynamics of an image\n",
    "\n",
    "def dynamic(arr):\n",
    "    Inew=arr.copy()\n",
    "    Inew=(arr-arr.min())*(255/(arr.max()-arr.min()))\n",
    "    return Inew"
   ]
  },
  {
   "cell_type": "code",
   "execution_count": null,
   "id": "5e948f30",
   "metadata": {},
   "outputs": [],
   "source": [
    "im=Image.fromarray(dynamic(im1))\n",
    "im.show()"
   ]
  },
  {
   "cell_type": "code",
   "execution_count": null,
   "id": "8f296395",
   "metadata": {},
   "outputs": [],
   "source": [
    "#Enhance the contrast of an image\n",
    "\n",
    "def contrast(arr):\n",
    "    list_arr=arr.ravel().tolist()\n",
    "    con=((max(list_arr)-min(list_arr))/(max(list_arr)+min(list_arr)))\n",
    "    return con"
   ]
  },
  {
   "cell_type": "code",
   "execution_count": null,
   "id": "ed818dae",
   "metadata": {},
   "outputs": [],
   "source": [
    "contrast(im1)"
   ]
  },
  {
   "cell_type": "code",
   "execution_count": null,
   "id": "38048b32",
   "metadata": {},
   "outputs": [],
   "source": [
    "#Q3_B : Enhance the egalisation of an image\n",
    "\n",
    "def egalistation(arr,d):\n",
    "    Inew=arr.copy()\n",
    "    liste=histo_cum(arr)\n",
    "    for i in range(arr.shape[1]):\n",
    "        for j in range(arr.shape[0]):\n",
    "            Inew[j][i]=liste[arr[j][i]]*((2**d)-1)\n",
    "    return Inew"
   ]
  },
  {
   "cell_type": "code",
   "execution_count": null,
   "id": "18ceb6b3",
   "metadata": {},
   "outputs": [],
   "source": [
    "im2=egalistation(im1,8)\n",
    "im3=Image.fromarray(im2)\n",
    "show_pair(Image.fromarray(im1),im3)"
   ]
  },
  {
   "cell_type": "code",
   "execution_count": null,
   "id": "145c13e4",
   "metadata": {},
   "outputs": [],
   "source": [
    "#Q5 : Evaluate the quality of a processed image by calculating :\n",
    "        #Root Mean Square Error MSE\n",
    "        #Signal to Noise Ratio SNR\n",
    "        #Peak Signal to Noise Ratio PSNR\n",
    "\n",
    "def qualite(orig,fltr):\n",
    "    list_arr=orig.ravel().tolist()\n",
    "    v=(1/(orig.shape[0]*orig.shape[1])*(sum(list_arr)**2))\n",
    "    mse = numpy.mean((orig.astype(numpy.int8) - fltr.astype(numpy.int8)) ** 2)\n",
    "    snr=10*math.log10(v/mse)\n",
    "    print(\"mse = \",mse,'\\n',\"snr = \",snr,'\\n',\"pnsr = \",pnsr(orig,fltr))"
   ]
  },
  {
   "cell_type": "code",
   "execution_count": null,
   "id": "793e911d",
   "metadata": {},
   "outputs": [],
   "source": [
    "qualite(im1,im2)"
   ]
  },
  {
   "cell_type": "code",
   "execution_count": null,
   "id": "589b3fae",
   "metadata": {},
   "outputs": [],
   "source": []
  }
 ],
 "metadata": {
  "kernelspec": {
   "display_name": "Python 3 (ipykernel)",
   "language": "python",
   "name": "python3"
  },
  "language_info": {
   "codemirror_mode": {
    "name": "ipython",
    "version": 3
   },
   "file_extension": ".py",
   "mimetype": "text/x-python",
   "name": "python",
   "nbconvert_exporter": "python",
   "pygments_lexer": "ipython3",
   "version": "3.9.7"
  }
 },
 "nbformat": 4,
 "nbformat_minor": 5
}
